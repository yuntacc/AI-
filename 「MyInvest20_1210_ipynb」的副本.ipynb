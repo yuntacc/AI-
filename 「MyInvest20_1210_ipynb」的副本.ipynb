{
  "nbformat": 4,
  "nbformat_minor": 0,
  "metadata": {
    "colab": {
      "name": "「MyInvest20-1210.ipynb」的副本",
      "provenance": [],
      "collapsed_sections": [],
      "include_colab_link": true
    },
    "kernelspec": {
      "name": "python3",
      "display_name": "Python 3"
    }
  },
  "cells": [
    {
      "cell_type": "markdown",
      "metadata": {
        "id": "view-in-github",
        "colab_type": "text"
      },
      "source": [
        "<a href=\"https://colab.research.google.com/github/yuntacc/AI-2021/blob/main/%E3%80%8CMyInvest20_1210_ipynb%E3%80%8D%E7%9A%84%E5%89%AF%E6%9C%AC.ipynb\" target=\"_parent\"><img src=\"https://colab.research.google.com/assets/colab-badge.svg\" alt=\"Open In Colab\"/></a>"
      ]
    },
    {
      "cell_type": "markdown",
      "metadata": {
        "id": "DbvWOGP4qVi-"
      },
      "source": [
        "## https://www.finlab.tw/"
      ]
    },
    {
      "cell_type": "markdown",
      "metadata": {
        "id": "E6q5Ziw6QIUm"
      },
      "source": [
        "## 兵法有云:\"勝兵先勝而後求戰\", 又云\"非危不戰\" ... 孫子 (i.e., 非危不戰: KD <= 25%)\n",
        "## 軍形: 故善戰者，先立於不敗之地，而不失敵之敗也。是故勝兵先勝而後求戰，敗兵先戰而後求勝。 勝者之戰，若決積水於千仞之谿者，形也。\n",
        "## 兵勢: 故善戰者，求之於勢，不責於人，故能擇人任勢。任勢者，其戰人也，如轉木石。木石之性，安則靜，危則動，方則止，圓則行。故善戰人之勢，如轉圓石於千仞之山者，勢也。"
      ]
    },
    {
      "cell_type": "code",
      "metadata": {
        "id": "D9tOvlqq4GB1"
      },
      "source": [
        ""
      ],
      "execution_count": null,
      "outputs": []
    },
    {
      "cell_type": "code",
      "metadata": {
        "colab": {
          "base_uri": "https://localhost:8080/"
        },
        "id": "Rz__p5xJOKQ8",
        "outputId": "f25dd9ae-874e-41cf-d20b-5a688d2530d7"
      },
      "source": [
        "%cd '/content/drive/MyDrive/Colab Notebooks/Fintech'"
      ],
      "execution_count": null,
      "outputs": [
        {
          "output_type": "stream",
          "name": "stdout",
          "text": [
            "[Errno 2] No such file or directory: '/content/drive/MyDrive/Colab Notebooks/Fintech'\n",
            "/content\n"
          ]
        }
      ]
    },
    {
      "cell_type": "markdown",
      "metadata": {
        "id": "GkztztUVTt5F"
      },
      "source": [
        "## Warm-up!!"
      ]
    },
    {
      "cell_type": "code",
      "metadata": {
        "id": "_FE3ZX6Gu_ZT"
      },
      "source": [
        "import datetime\n",
        "\n",
        "datetime_object = datetime.datetime.now()\n",
        "\n",
        "from IPython.display import IFrame, display, HTML\n",
        "\n",
        "url={'元大台灣高股息ETF連結基金-新台幣(A)不配息': 'https://fund.cnyes.com/chart/chartstudy.aspx?code=A3p32Uz&mobile=true&country=fund&market=A&divwidth=150%25&divheight=700',\n",
        "'統一全球新科技基金(新台幣)': 'https://fund.cnyes.com/chart/chartstudy.aspx?code=A09037&mobile=true&country=fund&market=A&divwidth=150%25&divheight=700',\n",
        "'安聯收益成長基金-AM穩定月收類股(美元)': 'https://fund.cnyes.com/chart/chartstudy.aspx?code=B20%2C073&mobile=true&country=fund&market=B&divwidth=150%25&divheight=700',\n",
        "'安聯收益成長基金-AM穩定月收類股(南非幣避險)':'https://fund.cnyes.com/chart/chartstudy.aspx?code=B20%2C088&mobile=true&country=fund&market=B&divwidth=150%25&divheight=700',\n",
        "'安聯收益成長基金-AT累積類股(美元)':'https://fund.cnyes.com/chart/chartstudy.aspx?code=B20%2C074&mobile=true&country=fund&market=B&divwidth=150%25&divheight=700',\n",
        "'駿利亨德森資產管理基金-駿利亨德森平衡基金A2美元': 'https://fund.cnyes.com/chart/chartstudy.aspx?code=B22%2C012&mobile=true&country=fund&market=B&divwidth=150%25&divheight=700',\n",
        "'NN (L) 新興市場債券基金X股美元(月配息)':'https://fund.cnyes.com/chart/chartstudy.aspx?code=B33%2C120&mobile=true&country=fund&market=B&divwidth=150%25&divheight=700',\n",
        "'NN (L) 新興市場債券基金X股對沖級別南非幣(月配息)': 'https://fund.cnyes.com/chart/chartstudy.aspx?code=B33%2C172&mobile=true&country=fund&market=B&divwidth=150%25&divheight=700',\n",
        "'摩根基金-JPM中國(美元)-A股(累計)': 'https://fund.cnyes.com/chart/chartstudy.aspx?code=B08%2C206&mobile=true&country=fund&market=B&divwidth=150%25&divheight=700',\n",
        "'貝萊德全球智慧數據股票入息基金 A6 美元 (穩定配息)':'https://fund.cnyes.com/chart/chartstudy.aspx?code=B09%2C325&mobile=true&country=fund&market=B&divwidth=150%25&divheight=700',\n",
        "'聯博-全球高收益債券基金AT股': 'https://fund.cnyes.com/chart/chartstudy.aspx?code=B03%2C013&mobile=true&country=fund&market=B&divwidth=150%25&divheight=700',\n",
        "'美元指數':'http://so.cnyes.com/JavascriptGraphic/chartstudy.aspx?country=future&market=future&code=DX&divwidth=990&divheight=300&mychartname=%e7%be%8e%e5%85%83%e6%8c%87%e6%95%b8(U.S.+Dollar+Index)',\n",
        "'鋒裕匯理基金新興市場債券A美元(穩定月配息)':'https://fund.cnyes.com/chart/chartstudy.aspx?code=B1MVjRY&mobile=true&country=fund&market=B&divwidth=150%25&divheight=700',\n",
        "'鋒裕匯理新興市場債券A南非幣(穩定月配息)':'https://fund.cnyes.com/chart/chartstudy.aspx?code=B32%2C159&mobile=true&country=fund&market=B&divwidth=150%25&divheight=700',\n",
        "'野村平衡基金':'https://fund.cnyes.com/chart/chartstudy.aspx?code=A32005&mobile=true&country=fund&market=A&divwidth=150%25&divheight=700',\n",
        "'安聯AI人工智慧基金-AT累積類股(美元)':'https://fund.cnyes.com/chart/chartstudy.aspx?code=B3ja88k&mobile=true&country=fund&market=B&divwidth=150%25&divheight=700',\n",
        "'貝萊德世界科技基金A2美元':'https://fund.cnyes.com/chart/chartstudy.aspx?code=B09%2C005&mobile=true&country=fund&market=B&divwidth=150%25&divheight=700'\n",
        "} "
      ],
      "execution_count": null,
      "outputs": []
    },
    {
      "cell_type": "code",
      "metadata": {
        "colab": {
          "base_uri": "https://localhost:8080/"
        },
        "id": "lsx5-VLuK7SB",
        "outputId": "f2844806-dc0d-4576-dde2-5bb984839a99"
      },
      "source": [
        "url"
      ],
      "execution_count": null,
      "outputs": [
        {
          "output_type": "execute_result",
          "data": {
            "text/plain": [
              "{'NN (L) 新興市場債券基金X股對沖級別南非幣(月配息)': 'https://fund.cnyes.com/chart/chartstudy.aspx?code=B33%2C172&mobile=true&country=fund&market=B&divwidth=150%25&divheight=700',\n",
              " 'NN (L) 新興市場債券基金X股美元(月配息)': 'https://fund.cnyes.com/chart/chartstudy.aspx?code=B33%2C120&mobile=true&country=fund&market=B&divwidth=150%25&divheight=700',\n",
              " '元大台灣高股息ETF連結基金-新台幣(A)不配息': 'https://fund.cnyes.com/chart/chartstudy.aspx?code=A3p32Uz&mobile=true&country=fund&market=A&divwidth=150%25&divheight=700',\n",
              " '安聯AI人工智慧基金-AT累積類股(美元)': 'https://fund.cnyes.com/chart/chartstudy.aspx?code=B3ja88k&mobile=true&country=fund&market=B&divwidth=150%25&divheight=700',\n",
              " '安聯收益成長基金-AM穩定月收類股(南非幣避險)': 'https://fund.cnyes.com/chart/chartstudy.aspx?code=B20%2C088&mobile=true&country=fund&market=B&divwidth=150%25&divheight=700',\n",
              " '安聯收益成長基金-AM穩定月收類股(美元)': 'https://fund.cnyes.com/chart/chartstudy.aspx?code=B20%2C073&mobile=true&country=fund&market=B&divwidth=150%25&divheight=700',\n",
              " '安聯收益成長基金-AT累積類股(美元)': 'https://fund.cnyes.com/chart/chartstudy.aspx?code=B20%2C074&mobile=true&country=fund&market=B&divwidth=150%25&divheight=700',\n",
              " '摩根基金-JPM中國(美元)-A股(累計)': 'https://fund.cnyes.com/chart/chartstudy.aspx?code=B08%2C206&mobile=true&country=fund&market=B&divwidth=150%25&divheight=700',\n",
              " '統一全球新科技基金(新台幣)': 'https://fund.cnyes.com/chart/chartstudy.aspx?code=A09037&mobile=true&country=fund&market=A&divwidth=150%25&divheight=700',\n",
              " '美元指數': 'http://so.cnyes.com/JavascriptGraphic/chartstudy.aspx?country=future&market=future&code=DX&divwidth=990&divheight=300&mychartname=%e7%be%8e%e5%85%83%e6%8c%87%e6%95%b8(U.S.+Dollar+Index)',\n",
              " '聯博-全球高收益債券基金AT股': 'https://fund.cnyes.com/chart/chartstudy.aspx?code=B03%2C013&mobile=true&country=fund&market=B&divwidth=150%25&divheight=700',\n",
              " '貝萊德世界科技基金A2美元': 'https://fund.cnyes.com/chart/chartstudy.aspx?code=B09%2C005&mobile=true&country=fund&market=B&divwidth=150%25&divheight=700',\n",
              " '貝萊德全球智慧數據股票入息基金 A6 美元 (穩定配息)': 'https://fund.cnyes.com/chart/chartstudy.aspx?code=B09%2C325&mobile=true&country=fund&market=B&divwidth=150%25&divheight=700',\n",
              " '野村平衡基金': 'https://fund.cnyes.com/chart/chartstudy.aspx?code=A32005&mobile=true&country=fund&market=A&divwidth=150%25&divheight=700',\n",
              " '鋒裕匯理基金新興市場債券A美元(穩定月配息)': 'https://fund.cnyes.com/chart/chartstudy.aspx?code=B1MVjRY&mobile=true&country=fund&market=B&divwidth=150%25&divheight=700',\n",
              " '鋒裕匯理新興市場債券A南非幣(穩定月配息)': 'https://fund.cnyes.com/chart/chartstudy.aspx?code=B32%2C159&mobile=true&country=fund&market=B&divwidth=150%25&divheight=700',\n",
              " '駿利亨德森資產管理基金-駿利亨德森平衡基金A2美元': 'https://fund.cnyes.com/chart/chartstudy.aspx?code=B22%2C012&mobile=true&country=fund&market=B&divwidth=150%25&divheight=700'}"
            ]
          },
          "metadata": {},
          "execution_count": 3
        }
      ]
    },
    {
      "cell_type": "code",
      "metadata": {
        "colab": {
          "base_uri": "https://localhost:8080/"
        },
        "id": "BEvYuhemLgv4",
        "outputId": "3fae3fd0-8d57-4080-f94a-06aa48977e6e"
      },
      "source": [
        "fname = []\n",
        "links = []\n",
        "for key, value in url.items():\n",
        "  print(key, value)\n",
        "  links.append(value)\n",
        "  fname.append(key)"
      ],
      "execution_count": null,
      "outputs": [
        {
          "output_type": "stream",
          "name": "stdout",
          "text": [
            "元大台灣高股息ETF連結基金-新台幣(A)不配息 https://fund.cnyes.com/chart/chartstudy.aspx?code=A3p32Uz&mobile=true&country=fund&market=A&divwidth=150%25&divheight=700\n",
            "統一全球新科技基金(新台幣) https://fund.cnyes.com/chart/chartstudy.aspx?code=A09037&mobile=true&country=fund&market=A&divwidth=150%25&divheight=700\n",
            "安聯收益成長基金-AM穩定月收類股(美元) https://fund.cnyes.com/chart/chartstudy.aspx?code=B20%2C073&mobile=true&country=fund&market=B&divwidth=150%25&divheight=700\n",
            "安聯收益成長基金-AM穩定月收類股(南非幣避險) https://fund.cnyes.com/chart/chartstudy.aspx?code=B20%2C088&mobile=true&country=fund&market=B&divwidth=150%25&divheight=700\n",
            "安聯收益成長基金-AT累積類股(美元) https://fund.cnyes.com/chart/chartstudy.aspx?code=B20%2C074&mobile=true&country=fund&market=B&divwidth=150%25&divheight=700\n",
            "駿利亨德森資產管理基金-駿利亨德森平衡基金A2美元 https://fund.cnyes.com/chart/chartstudy.aspx?code=B22%2C012&mobile=true&country=fund&market=B&divwidth=150%25&divheight=700\n",
            "NN (L) 新興市場債券基金X股美元(月配息) https://fund.cnyes.com/chart/chartstudy.aspx?code=B33%2C120&mobile=true&country=fund&market=B&divwidth=150%25&divheight=700\n",
            "NN (L) 新興市場債券基金X股對沖級別南非幣(月配息) https://fund.cnyes.com/chart/chartstudy.aspx?code=B33%2C172&mobile=true&country=fund&market=B&divwidth=150%25&divheight=700\n",
            "摩根基金-JPM中國(美元)-A股(累計) https://fund.cnyes.com/chart/chartstudy.aspx?code=B08%2C206&mobile=true&country=fund&market=B&divwidth=150%25&divheight=700\n",
            "貝萊德全球智慧數據股票入息基金 A6 美元 (穩定配息) https://fund.cnyes.com/chart/chartstudy.aspx?code=B09%2C325&mobile=true&country=fund&market=B&divwidth=150%25&divheight=700\n",
            "聯博-全球高收益債券基金AT股 https://fund.cnyes.com/chart/chartstudy.aspx?code=B03%2C013&mobile=true&country=fund&market=B&divwidth=150%25&divheight=700\n",
            "美元指數 http://so.cnyes.com/JavascriptGraphic/chartstudy.aspx?country=future&market=future&code=DX&divwidth=990&divheight=300&mychartname=%e7%be%8e%e5%85%83%e6%8c%87%e6%95%b8(U.S.+Dollar+Index)\n",
            "鋒裕匯理基金新興市場債券A美元(穩定月配息) https://fund.cnyes.com/chart/chartstudy.aspx?code=B1MVjRY&mobile=true&country=fund&market=B&divwidth=150%25&divheight=700\n",
            "鋒裕匯理新興市場債券A南非幣(穩定月配息) https://fund.cnyes.com/chart/chartstudy.aspx?code=B32%2C159&mobile=true&country=fund&market=B&divwidth=150%25&divheight=700\n",
            "野村平衡基金 https://fund.cnyes.com/chart/chartstudy.aspx?code=A32005&mobile=true&country=fund&market=A&divwidth=150%25&divheight=700\n",
            "安聯AI人工智慧基金-AT累積類股(美元) https://fund.cnyes.com/chart/chartstudy.aspx?code=B3ja88k&mobile=true&country=fund&market=B&divwidth=150%25&divheight=700\n",
            "貝萊德世界科技基金A2美元 https://fund.cnyes.com/chart/chartstudy.aspx?code=B09%2C005&mobile=true&country=fund&market=B&divwidth=150%25&divheight=700\n"
          ]
        }
      ]
    },
    {
      "cell_type": "code",
      "metadata": {
        "colab": {
          "base_uri": "https://localhost:8080/"
        },
        "id": "YHTKIQIJMfmf",
        "outputId": "573bb1b7-460d-41f3-9653-cf3a474b9c7c"
      },
      "source": [
        "links"
      ],
      "execution_count": null,
      "outputs": [
        {
          "output_type": "execute_result",
          "data": {
            "text/plain": [
              "['https://fund.cnyes.com/chart/chartstudy.aspx?code=A3p32Uz&mobile=true&country=fund&market=A&divwidth=150%25&divheight=700',\n",
              " 'https://fund.cnyes.com/chart/chartstudy.aspx?code=A09037&mobile=true&country=fund&market=A&divwidth=150%25&divheight=700',\n",
              " 'https://fund.cnyes.com/chart/chartstudy.aspx?code=B20%2C073&mobile=true&country=fund&market=B&divwidth=150%25&divheight=700',\n",
              " 'https://fund.cnyes.com/chart/chartstudy.aspx?code=B20%2C088&mobile=true&country=fund&market=B&divwidth=150%25&divheight=700',\n",
              " 'https://fund.cnyes.com/chart/chartstudy.aspx?code=B20%2C074&mobile=true&country=fund&market=B&divwidth=150%25&divheight=700',\n",
              " 'https://fund.cnyes.com/chart/chartstudy.aspx?code=B22%2C012&mobile=true&country=fund&market=B&divwidth=150%25&divheight=700',\n",
              " 'https://fund.cnyes.com/chart/chartstudy.aspx?code=B33%2C120&mobile=true&country=fund&market=B&divwidth=150%25&divheight=700',\n",
              " 'https://fund.cnyes.com/chart/chartstudy.aspx?code=B33%2C172&mobile=true&country=fund&market=B&divwidth=150%25&divheight=700',\n",
              " 'https://fund.cnyes.com/chart/chartstudy.aspx?code=B08%2C206&mobile=true&country=fund&market=B&divwidth=150%25&divheight=700',\n",
              " 'https://fund.cnyes.com/chart/chartstudy.aspx?code=B09%2C325&mobile=true&country=fund&market=B&divwidth=150%25&divheight=700',\n",
              " 'https://fund.cnyes.com/chart/chartstudy.aspx?code=B03%2C013&mobile=true&country=fund&market=B&divwidth=150%25&divheight=700',\n",
              " 'http://so.cnyes.com/JavascriptGraphic/chartstudy.aspx?country=future&market=future&code=DX&divwidth=990&divheight=300&mychartname=%e7%be%8e%e5%85%83%e6%8c%87%e6%95%b8(U.S.+Dollar+Index)',\n",
              " 'https://fund.cnyes.com/chart/chartstudy.aspx?code=B1MVjRY&mobile=true&country=fund&market=B&divwidth=150%25&divheight=700',\n",
              " 'https://fund.cnyes.com/chart/chartstudy.aspx?code=B32%2C159&mobile=true&country=fund&market=B&divwidth=150%25&divheight=700',\n",
              " 'https://fund.cnyes.com/chart/chartstudy.aspx?code=A32005&mobile=true&country=fund&market=A&divwidth=150%25&divheight=700',\n",
              " 'https://fund.cnyes.com/chart/chartstudy.aspx?code=B3ja88k&mobile=true&country=fund&market=B&divwidth=150%25&divheight=700',\n",
              " 'https://fund.cnyes.com/chart/chartstudy.aspx?code=B09%2C005&mobile=true&country=fund&market=B&divwidth=150%25&divheight=700']"
            ]
          },
          "metadata": {},
          "execution_count": 5
        }
      ]
    },
    {
      "cell_type": "markdown",
      "metadata": {
        "id": "2bZpD30PM-0w"
      },
      "source": [
        "## Check our investment status. Go!!"
      ]
    },
    {
      "cell_type": "code",
      "metadata": {
        "id": "btDHvPyKTC1O",
        "colab": {
          "base_uri": "https://localhost:8080/"
        },
        "outputId": "eb5bd804-cb81-4c3f-f448-5e61452aedf7"
      },
      "source": [
        "ww = 650; hh = 700\n",
        "print(datetime_object)"
      ],
      "execution_count": null,
      "outputs": [
        {
          "output_type": "stream",
          "name": "stdout",
          "text": [
            "2021-10-19 06:35:13.560237\n"
          ]
        }
      ]
    },
    {
      "cell_type": "code",
      "metadata": {
        "colab": {
          "base_uri": "https://localhost:8080/",
          "height": 739
        },
        "id": "9GhynJgbwhCt",
        "outputId": "27c8623f-6ce8-48b6-83b5-5399ac5467f1"
      },
      "source": [
        "print(fname[0])\n",
        "IFrame(src=links[0], width=ww, height=hh) #元大台灣高股息ETF連結基金-新台幣(A)不配息"
      ],
      "execution_count": null,
      "outputs": [
        {
          "output_type": "stream",
          "name": "stdout",
          "text": [
            "元大台灣高股息ETF連結基金-新台幣(A)不配息\n"
          ]
        },
        {
          "output_type": "execute_result",
          "data": {
            "text/html": [
              "\n",
              "        <iframe\n",
              "            width=\"650\"\n",
              "            height=\"700\"\n",
              "            src=\"https://fund.cnyes.com/chart/chartstudy.aspx?code=A3p32Uz&mobile=true&country=fund&market=A&divwidth=150%25&divheight=700\"\n",
              "            frameborder=\"0\"\n",
              "            allowfullscreen\n",
              "        ></iframe>\n",
              "        "
            ],
            "text/plain": [
              "<IPython.lib.display.IFrame at 0x7fa66cfe8cd0>"
            ]
          },
          "metadata": {},
          "execution_count": 7
        }
      ]
    },
    {
      "cell_type": "code",
      "metadata": {
        "colab": {
          "base_uri": "https://localhost:8080/",
          "height": 739
        },
        "id": "v1aGnN2uNxzX",
        "outputId": "7440ffc0-a715-4dc6-f28b-94b4f06cf32c"
      },
      "source": [
        "print(fname[1])\n",
        "IFrame(src=links[1], width=ww, height=hh) # 統一全球新科技基金(新台幣)"
      ],
      "execution_count": null,
      "outputs": [
        {
          "output_type": "stream",
          "name": "stdout",
          "text": [
            "統一全球新科技基金(新台幣)\n"
          ]
        },
        {
          "output_type": "execute_result",
          "data": {
            "text/html": [
              "\n",
              "        <iframe\n",
              "            width=\"650\"\n",
              "            height=\"700\"\n",
              "            src=\"https://fund.cnyes.com/chart/chartstudy.aspx?code=A09037&mobile=true&country=fund&market=A&divwidth=150%25&divheight=700\"\n",
              "            frameborder=\"0\"\n",
              "            allowfullscreen\n",
              "        ></iframe>\n",
              "        "
            ],
            "text/plain": [
              "<IPython.lib.display.IFrame at 0x7fa66871f750>"
            ]
          },
          "metadata": {},
          "execution_count": 8
        }
      ]
    },
    {
      "cell_type": "code",
      "metadata": {
        "colab": {
          "base_uri": "https://localhost:8080/",
          "height": 739
        },
        "id": "p2AQdTVXN6eP",
        "outputId": "70316b02-651a-4301-9a4b-7e2c600af2e6"
      },
      "source": [
        "print(fname[2])\n",
        "IFrame(src=links[2], width=ww, height=hh) # 安聯收益成長基金-AM穩定月收類股(美元)"
      ],
      "execution_count": null,
      "outputs": [
        {
          "output_type": "stream",
          "name": "stdout",
          "text": [
            "安聯收益成長基金-AM穩定月收類股(美元)\n"
          ]
        },
        {
          "output_type": "execute_result",
          "data": {
            "text/html": [
              "\n",
              "        <iframe\n",
              "            width=\"650\"\n",
              "            height=\"700\"\n",
              "            src=\"https://fund.cnyes.com/chart/chartstudy.aspx?code=B20%2C073&mobile=true&country=fund&market=B&divwidth=150%25&divheight=700\"\n",
              "            frameborder=\"0\"\n",
              "            allowfullscreen\n",
              "        ></iframe>\n",
              "        "
            ],
            "text/plain": [
              "<IPython.lib.display.IFrame at 0x7fa66872c0d0>"
            ]
          },
          "metadata": {},
          "execution_count": 9
        }
      ]
    },
    {
      "cell_type": "code",
      "metadata": {
        "colab": {
          "base_uri": "https://localhost:8080/",
          "height": 739
        },
        "id": "_V04DvrqN88_",
        "outputId": "3b1ed035-1229-4148-87ad-f5ed0a281aa2"
      },
      "source": [
        "print(fname[3])\n",
        "IFrame(src=links[3], width=ww, height=hh) "
      ],
      "execution_count": null,
      "outputs": [
        {
          "output_type": "stream",
          "name": "stdout",
          "text": [
            "安聯收益成長基金-AM穩定月收類股(南非幣避險)\n"
          ]
        },
        {
          "output_type": "execute_result",
          "data": {
            "text/html": [
              "\n",
              "        <iframe\n",
              "            width=\"650\"\n",
              "            height=\"700\"\n",
              "            src=\"https://fund.cnyes.com/chart/chartstudy.aspx?code=B20%2C088&mobile=true&country=fund&market=B&divwidth=150%25&divheight=700\"\n",
              "            frameborder=\"0\"\n",
              "            allowfullscreen\n",
              "        ></iframe>\n",
              "        "
            ],
            "text/plain": [
              "<IPython.lib.display.IFrame at 0x7fa66872c5d0>"
            ]
          },
          "metadata": {},
          "execution_count": 10
        }
      ]
    },
    {
      "cell_type": "code",
      "metadata": {
        "colab": {
          "base_uri": "https://localhost:8080/",
          "height": 739
        },
        "id": "otlcL65jN_sn",
        "outputId": "39e23c5a-5216-4385-aa0f-85a974c87946"
      },
      "source": [
        "print(fname[4])\n",
        "IFrame(src=links[4], width=ww, height=hh) "
      ],
      "execution_count": null,
      "outputs": [
        {
          "output_type": "stream",
          "name": "stdout",
          "text": [
            "安聯收益成長基金-AT累積類股(美元)\n"
          ]
        },
        {
          "output_type": "execute_result",
          "data": {
            "text/html": [
              "\n",
              "        <iframe\n",
              "            width=\"650\"\n",
              "            height=\"700\"\n",
              "            src=\"https://fund.cnyes.com/chart/chartstudy.aspx?code=B20%2C074&mobile=true&country=fund&market=B&divwidth=150%25&divheight=700\"\n",
              "            frameborder=\"0\"\n",
              "            allowfullscreen\n",
              "        ></iframe>\n",
              "        "
            ],
            "text/plain": [
              "<IPython.lib.display.IFrame at 0x7fa66872cf50>"
            ]
          },
          "metadata": {},
          "execution_count": 11
        }
      ]
    },
    {
      "cell_type": "code",
      "metadata": {
        "id": "qD8GLm5ROBJI",
        "colab": {
          "base_uri": "https://localhost:8080/",
          "height": 739
        },
        "outputId": "59392575-a963-4234-f410-cb48f7172a61"
      },
      "source": [
        "print(fname[5])\n",
        "IFrame(src=links[5], width=ww, height=hh) "
      ],
      "execution_count": null,
      "outputs": [
        {
          "output_type": "stream",
          "name": "stdout",
          "text": [
            "駿利亨德森資產管理基金-駿利亨德森平衡基金A2美元\n"
          ]
        },
        {
          "output_type": "execute_result",
          "data": {
            "text/html": [
              "\n",
              "        <iframe\n",
              "            width=\"650\"\n",
              "            height=\"700\"\n",
              "            src=\"https://fund.cnyes.com/chart/chartstudy.aspx?code=B22%2C012&mobile=true&country=fund&market=B&divwidth=150%25&divheight=700\"\n",
              "            frameborder=\"0\"\n",
              "            allowfullscreen\n",
              "        ></iframe>\n",
              "        "
            ],
            "text/plain": [
              "<IPython.lib.display.IFrame at 0x7fa668733910>"
            ]
          },
          "metadata": {},
          "execution_count": 12
        }
      ]
    },
    {
      "cell_type": "code",
      "metadata": {
        "colab": {
          "base_uri": "https://localhost:8080/",
          "height": 739
        },
        "id": "MPYLjOtqaQ4C",
        "outputId": "53f23cac-70b2-4d09-9980-b20a1a9de432"
      },
      "source": [
        "print(fname[6])\n",
        "IFrame(src=links[6], width=ww, height=hh) "
      ],
      "execution_count": null,
      "outputs": [
        {
          "output_type": "stream",
          "name": "stdout",
          "text": [
            "NN (L) 新興市場債券基金X股美元(月配息)\n"
          ]
        },
        {
          "output_type": "execute_result",
          "data": {
            "text/html": [
              "\n",
              "        <iframe\n",
              "            width=\"650\"\n",
              "            height=\"700\"\n",
              "            src=\"https://fund.cnyes.com/chart/chartstudy.aspx?code=B33%2C120&mobile=true&country=fund&market=B&divwidth=150%25&divheight=700\"\n",
              "            frameborder=\"0\"\n",
              "            allowfullscreen\n",
              "        ></iframe>\n",
              "        "
            ],
            "text/plain": [
              "<IPython.lib.display.IFrame at 0x7fa66872cc50>"
            ]
          },
          "metadata": {},
          "execution_count": 13
        }
      ]
    },
    {
      "cell_type": "code",
      "metadata": {
        "colab": {
          "base_uri": "https://localhost:8080/",
          "height": 739
        },
        "id": "8DbRCLCKGlp2",
        "outputId": "561d9774-5407-446d-d5c5-edcb6f151a1a"
      },
      "source": [
        "print(fname[7])\n",
        "IFrame(src=links[7], width=ww, height=hh) "
      ],
      "execution_count": null,
      "outputs": [
        {
          "output_type": "stream",
          "name": "stdout",
          "text": [
            "NN (L) 新興市場債券基金X股對沖級別南非幣(月配息)\n"
          ]
        },
        {
          "output_type": "execute_result",
          "data": {
            "text/html": [
              "\n",
              "        <iframe\n",
              "            width=\"650\"\n",
              "            height=\"700\"\n",
              "            src=\"https://fund.cnyes.com/chart/chartstudy.aspx?code=B33%2C172&mobile=true&country=fund&market=B&divwidth=150%25&divheight=700\"\n",
              "            frameborder=\"0\"\n",
              "            allowfullscreen\n",
              "        ></iframe>\n",
              "        "
            ],
            "text/plain": [
              "<IPython.lib.display.IFrame at 0x7fa66871f650>"
            ]
          },
          "metadata": {},
          "execution_count": 14
        }
      ]
    },
    {
      "cell_type": "code",
      "metadata": {
        "colab": {
          "base_uri": "https://localhost:8080/",
          "height": 739
        },
        "id": "whpzQj0TNofz",
        "outputId": "3e12f7f5-17fb-4062-951f-370744461b8c"
      },
      "source": [
        "print(fname[8])\n",
        "IFrame(src=links[8], width=ww, height=hh) "
      ],
      "execution_count": null,
      "outputs": [
        {
          "output_type": "stream",
          "name": "stdout",
          "text": [
            "摩根基金-JPM中國(美元)-A股(累計)\n"
          ]
        },
        {
          "output_type": "execute_result",
          "data": {
            "text/html": [
              "\n",
              "        <iframe\n",
              "            width=\"650\"\n",
              "            height=\"700\"\n",
              "            src=\"https://fund.cnyes.com/chart/chartstudy.aspx?code=B08%2C206&mobile=true&country=fund&market=B&divwidth=150%25&divheight=700\"\n",
              "            frameborder=\"0\"\n",
              "            allowfullscreen\n",
              "        ></iframe>\n",
              "        "
            ],
            "text/plain": [
              "<IPython.lib.display.IFrame at 0x7fa66871f990>"
            ]
          },
          "metadata": {},
          "execution_count": 15
        }
      ]
    },
    {
      "cell_type": "code",
      "metadata": {
        "colab": {
          "base_uri": "https://localhost:8080/"
        },
        "id": "VdoYmz1uaX8F",
        "outputId": "cbf93def-b99b-4b6c-de71-a2bb9966ffa3"
      },
      "source": [
        "print(fname[10])\n",
        "#IFrame(src=links[10], width=ww, height=hh) # "
      ],
      "execution_count": null,
      "outputs": [
        {
          "output_type": "stream",
          "name": "stdout",
          "text": [
            "聯博-全球高收益債券基金AT股\n"
          ]
        }
      ]
    },
    {
      "cell_type": "code",
      "metadata": {
        "colab": {
          "base_uri": "https://localhost:8080/",
          "height": 739
        },
        "id": "M_0M89xOZTCE",
        "outputId": "ca056396-b836-40b0-9dc7-83f4da431e43"
      },
      "source": [
        "print(fname[11])\n",
        "IFrame(src=links[11], width=ww, height=hh) # "
      ],
      "execution_count": null,
      "outputs": [
        {
          "output_type": "stream",
          "name": "stdout",
          "text": [
            "美元指數\n"
          ]
        },
        {
          "output_type": "execute_result",
          "data": {
            "text/html": [
              "\n",
              "        <iframe\n",
              "            width=\"650\"\n",
              "            height=\"700\"\n",
              "            src=\"http://so.cnyes.com/JavascriptGraphic/chartstudy.aspx?country=future&market=future&code=DX&divwidth=990&divheight=300&mychartname=%e7%be%8e%e5%85%83%e6%8c%87%e6%95%b8(U.S.+Dollar+Index)\"\n",
              "            frameborder=\"0\"\n",
              "            allowfullscreen\n",
              "        ></iframe>\n",
              "        "
            ],
            "text/plain": [
              "<IPython.lib.display.IFrame at 0x7fa668716ed0>"
            ]
          },
          "metadata": {},
          "execution_count": 17
        }
      ]
    },
    {
      "cell_type": "code",
      "metadata": {
        "colab": {
          "base_uri": "https://localhost:8080/",
          "height": 739
        },
        "id": "S9oqU_rRCTKr",
        "outputId": "a5f6bcf6-9d9c-4915-d75b-3410ee61289a"
      },
      "source": [
        "print(fname[12])\n",
        "IFrame(src=links[12], width=ww, height=hh) # "
      ],
      "execution_count": null,
      "outputs": [
        {
          "output_type": "stream",
          "name": "stdout",
          "text": [
            "鋒裕匯理基金新興市場債券A美元(穩定月配息)\n"
          ]
        },
        {
          "output_type": "execute_result",
          "data": {
            "text/html": [
              "\n",
              "        <iframe\n",
              "            width=\"650\"\n",
              "            height=\"700\"\n",
              "            src=\"https://fund.cnyes.com/chart/chartstudy.aspx?code=B1MVjRY&mobile=true&country=fund&market=B&divwidth=150%25&divheight=700\"\n",
              "            frameborder=\"0\"\n",
              "            allowfullscreen\n",
              "        ></iframe>\n",
              "        "
            ],
            "text/plain": [
              "<IPython.lib.display.IFrame at 0x7fa66b982d10>"
            ]
          },
          "metadata": {},
          "execution_count": 18
        }
      ]
    },
    {
      "cell_type": "code",
      "metadata": {
        "colab": {
          "base_uri": "https://localhost:8080/",
          "height": 739
        },
        "id": "IWczdqhkjEMH",
        "outputId": "eb852f77-dbe5-45e5-ad7b-731a3d12b4bb"
      },
      "source": [
        "print(fname[13])\n",
        "IFrame(src=links[13], width=ww, height=hh) # "
      ],
      "execution_count": null,
      "outputs": [
        {
          "output_type": "stream",
          "name": "stdout",
          "text": [
            "鋒裕匯理新興市場債券A南非幣(穩定月配息)\n"
          ]
        },
        {
          "output_type": "execute_result",
          "data": {
            "text/html": [
              "\n",
              "        <iframe\n",
              "            width=\"650\"\n",
              "            height=\"700\"\n",
              "            src=\"https://fund.cnyes.com/chart/chartstudy.aspx?code=B32%2C159&mobile=true&country=fund&market=B&divwidth=150%25&divheight=700\"\n",
              "            frameborder=\"0\"\n",
              "            allowfullscreen\n",
              "        ></iframe>\n",
              "        "
            ],
            "text/plain": [
              "<IPython.lib.display.IFrame at 0x7fa66b982b50>"
            ]
          },
          "metadata": {},
          "execution_count": 19
        }
      ]
    },
    {
      "cell_type": "markdown",
      "metadata": {
        "id": "_gXfFu5YF2KJ"
      },
      "source": [
        "## https://invest.cnyes.com/forex/detail/ZARTWD/technical # 南非蘭特/台幣\n",
        "## https://invest.cnyes.com/forex/detail/USDTWD/technical # 美元/台幣\n",
        "## https://invest.cnyes.com/forex/detail/JPYTWD/technical # 日幣/台幣\n",
        "## https://invest.cnyes.com/forex/detail/CNYTWD/technical # 人民幣/台幣"
      ]
    },
    {
      "cell_type": "code",
      "metadata": {
        "colab": {
          "base_uri": "https://localhost:8080/",
          "height": 739
        },
        "id": "iCWVnrgCz8k1",
        "outputId": "1ff7d540-a4b1-42fb-f4cf-128d3dd737ba"
      },
      "source": [
        "print(fname[14])\n",
        "IFrame(src=links[14], width=ww, height=hh)"
      ],
      "execution_count": null,
      "outputs": [
        {
          "output_type": "stream",
          "name": "stdout",
          "text": [
            "野村平衡基金\n"
          ]
        },
        {
          "output_type": "execute_result",
          "data": {
            "text/html": [
              "\n",
              "        <iframe\n",
              "            width=\"650\"\n",
              "            height=\"700\"\n",
              "            src=\"https://fund.cnyes.com/chart/chartstudy.aspx?code=A32005&mobile=true&country=fund&market=A&divwidth=150%25&divheight=700\"\n",
              "            frameborder=\"0\"\n",
              "            allowfullscreen\n",
              "        ></iframe>\n",
              "        "
            ],
            "text/plain": [
              "<IPython.lib.display.IFrame at 0x7fa66873e690>"
            ]
          },
          "metadata": {},
          "execution_count": 20
        }
      ]
    },
    {
      "cell_type": "code",
      "metadata": {
        "id": "BBMlXqcpZTOs",
        "colab": {
          "base_uri": "https://localhost:8080/",
          "height": 739
        },
        "outputId": "c7c78b06-e357-4f42-c90a-e7c0902c12c1"
      },
      "source": [
        "print(fname[9])\n",
        "IFrame(src=links[9], width=ww, height=hh) # "
      ],
      "execution_count": null,
      "outputs": [
        {
          "output_type": "stream",
          "name": "stdout",
          "text": [
            "貝萊德全球智慧數據股票入息基金 A6 美元 (穩定配息)\n"
          ]
        },
        {
          "output_type": "execute_result",
          "data": {
            "text/html": [
              "\n",
              "        <iframe\n",
              "            width=\"650\"\n",
              "            height=\"700\"\n",
              "            src=\"https://fund.cnyes.com/chart/chartstudy.aspx?code=B09%2C325&mobile=true&country=fund&market=B&divwidth=150%25&divheight=700\"\n",
              "            frameborder=\"0\"\n",
              "            allowfullscreen\n",
              "        ></iframe>\n",
              "        "
            ],
            "text/plain": [
              "<IPython.lib.display.IFrame at 0x7fa66873eed0>"
            ]
          },
          "metadata": {},
          "execution_count": 21
        }
      ]
    },
    {
      "cell_type": "code",
      "metadata": {
        "id": "YCOwmaC9arXb"
      },
      "source": [
        ""
      ],
      "execution_count": null,
      "outputs": []
    },
    {
      "cell_type": "code",
      "metadata": {
        "id": "3_ZK_vSZLS4k",
        "colab": {
          "base_uri": "https://localhost:8080/",
          "height": 739
        },
        "outputId": "b356d2e9-6d59-4937-a75e-ab01e4d727da"
      },
      "source": [
        "print(fname[15])\n",
        "IFrame(src=links[15], width=ww, height=hh) # "
      ],
      "execution_count": null,
      "outputs": [
        {
          "output_type": "stream",
          "name": "stdout",
          "text": [
            "安聯AI人工智慧基金-AT累積類股(美元)\n"
          ]
        },
        {
          "output_type": "execute_result",
          "data": {
            "text/html": [
              "\n",
              "        <iframe\n",
              "            width=\"650\"\n",
              "            height=\"700\"\n",
              "            src=\"https://fund.cnyes.com/chart/chartstudy.aspx?code=B3ja88k&mobile=true&country=fund&market=B&divwidth=150%25&divheight=700\"\n",
              "            frameborder=\"0\"\n",
              "            allowfullscreen\n",
              "        ></iframe>\n",
              "        "
            ],
            "text/plain": [
              "<IPython.lib.display.IFrame at 0x7fa66873eb50>"
            ]
          },
          "metadata": {},
          "execution_count": 22
        }
      ]
    },
    {
      "cell_type": "code",
      "metadata": {
        "colab": {
          "base_uri": "https://localhost:8080/",
          "height": 739
        },
        "id": "1rye82OratQi",
        "outputId": "8486e365-4497-4b76-f81b-76a8cbe5ca65"
      },
      "source": [
        "print(fname[16])\n",
        "IFrame(src=links[16], width=ww, height=hh) # "
      ],
      "execution_count": null,
      "outputs": [
        {
          "output_type": "stream",
          "name": "stdout",
          "text": [
            "貝萊德世界科技基金A2美元\n"
          ]
        },
        {
          "output_type": "execute_result",
          "data": {
            "text/html": [
              "\n",
              "        <iframe\n",
              "            width=\"650\"\n",
              "            height=\"700\"\n",
              "            src=\"https://fund.cnyes.com/chart/chartstudy.aspx?code=B09%2C005&mobile=true&country=fund&market=B&divwidth=150%25&divheight=700\"\n",
              "            frameborder=\"0\"\n",
              "            allowfullscreen\n",
              "        ></iframe>\n",
              "        "
            ],
            "text/plain": [
              "<IPython.lib.display.IFrame at 0x7fa66871f050>"
            ]
          },
          "metadata": {},
          "execution_count": 23
        }
      ]
    },
    {
      "cell_type": "code",
      "metadata": {
        "colab": {
          "base_uri": "https://localhost:8080/",
          "height": 186
        },
        "id": "g_H0C-tKayrG",
        "outputId": "32876cfe-810b-4f0e-ba4b-a44f47002b1b"
      },
      "source": [
        "print(fname[17])\n",
        "IFrame(src=links[17], width=ww, height=hh) # "
      ],
      "execution_count": null,
      "outputs": [
        {
          "output_type": "error",
          "ename": "IndexError",
          "evalue": "ignored",
          "traceback": [
            "\u001b[0;31m---------------------------------------------------------------------------\u001b[0m",
            "\u001b[0;31mIndexError\u001b[0m                                Traceback (most recent call last)",
            "\u001b[0;32m<ipython-input-24-b975f07a69c9>\u001b[0m in \u001b[0;36m<module>\u001b[0;34m()\u001b[0m\n\u001b[0;32m----> 1\u001b[0;31m \u001b[0mprint\u001b[0m\u001b[0;34m(\u001b[0m\u001b[0mfname\u001b[0m\u001b[0;34m[\u001b[0m\u001b[0;36m17\u001b[0m\u001b[0;34m]\u001b[0m\u001b[0;34m)\u001b[0m\u001b[0;34m\u001b[0m\u001b[0;34m\u001b[0m\u001b[0m\n\u001b[0m\u001b[1;32m      2\u001b[0m \u001b[0mIFrame\u001b[0m\u001b[0;34m(\u001b[0m\u001b[0msrc\u001b[0m\u001b[0;34m=\u001b[0m\u001b[0mlinks\u001b[0m\u001b[0;34m[\u001b[0m\u001b[0;36m17\u001b[0m\u001b[0;34m]\u001b[0m\u001b[0;34m,\u001b[0m \u001b[0mwidth\u001b[0m\u001b[0;34m=\u001b[0m\u001b[0mww\u001b[0m\u001b[0;34m,\u001b[0m \u001b[0mheight\u001b[0m\u001b[0;34m=\u001b[0m\u001b[0mhh\u001b[0m\u001b[0;34m)\u001b[0m \u001b[0;31m#\u001b[0m\u001b[0;34m\u001b[0m\u001b[0;34m\u001b[0m\u001b[0m\n",
            "\u001b[0;31mIndexError\u001b[0m: list index out of range"
          ]
        }
      ]
    },
    {
      "cell_type": "code",
      "metadata": {
        "id": "mzMI1kD_BqVe"
      },
      "source": [
        "#https://invest.cnyes.com/index/GI/VIX"
      ],
      "execution_count": null,
      "outputs": []
    },
    {
      "cell_type": "code",
      "metadata": {
        "id": "QEQHzr83CdH3"
      },
      "source": [
        "# Web Scraping Tutorial.ipynb\n",
        "# https://colab.research.google.com/github/nestauk/im-tutorials/blob/3-ysi-tutorial/notebooks/Web-Scraping/Web%20Scraping%20Tutorial.ipynb"
      ],
      "execution_count": null,
      "outputs": []
    },
    {
      "cell_type": "markdown",
      "metadata": {
        "id": "TS8KKIydLV70"
      },
      "source": [
        "#Python Test"
      ]
    },
    {
      "cell_type": "code",
      "metadata": {
        "id": "GJH19fdQLaZF"
      },
      "source": [
        "def exp(*a, **kw):  # Exp by Hroace at 2021/02/12\n",
        "  print('* to tuple:',a) # Python automatically grouped element to a tuple data structure\n",
        "  print('** to Dic:',kw) # Python automatically grouped the element with \":\" to a dictionary structure\n",
        "\n",
        "exp(1,2,3,4,5,6, a=2, b=3, c=5)"
      ],
      "execution_count": null,
      "outputs": []
    },
    {
      "cell_type": "code",
      "metadata": {
        "id": "4oqr0gy_M9jV"
      },
      "source": [
        "lis = [1,2,3,4]\n",
        "dic = {'a':10, 'b':20}\n",
        "exp(*lis, **dic)  # *: tuple format, ** dictionary format"
      ],
      "execution_count": null,
      "outputs": []
    },
    {
      "cell_type": "code",
      "metadata": {
        "id": "l9zRY3-KN1nt"
      },
      "source": [
        "for i in [1,2,3,4,5]: # Exp1\n",
        "  if i==3:\n",
        "    print('Exp1-break:',i)\n",
        "    break\n",
        "else:\n",
        "  print('Exp1-else:',i)\n",
        "\n",
        "for i in [1,2,3,4,5]: # Exp2\n",
        "  if i==9:\n",
        "    print('Exp2-break:',i)\n",
        "    break\n",
        "else:\n",
        "  print('Exp2-else:',i,'; only executed when no item of the list == 9')"
      ],
      "execution_count": null,
      "outputs": []
    },
    {
      "cell_type": "code",
      "metadata": {
        "id": "Gsxc_aU7XLd-"
      },
      "source": [
        "cat1 = ['fat','red','black'] # check by list\n",
        "cat2 = ('fat','red','black') # check by tuple\n",
        "size, c1, c2 = cat1\n",
        "print(size, c1, c2)\n",
        "\n",
        "s2, c11, c21 = cat2\n",
        "print(s2, c11, c21)"
      ],
      "execution_count": null,
      "outputs": []
    },
    {
      "cell_type": "code",
      "metadata": {
        "id": "tiwWiamcezV7"
      },
      "source": [
        ""
      ],
      "execution_count": null,
      "outputs": []
    },
    {
      "cell_type": "code",
      "metadata": {
        "id": "G3HZny3sXLWV"
      },
      "source": [
        "from textwrap import dedent\n",
        "\n",
        "def my_function():\n",
        "    print('''\n",
        "        Dear Alice,\n",
        "\n",
        "        Eve's cat has been arrested for catnapping, cat burglary, and extortion.\n",
        "\n",
        "        Sincerely,\n",
        "        Bob\n",
        "        ''')\n",
        "\n",
        "\n",
        "\n",
        "my_function()        "
      ],
      "execution_count": null,
      "outputs": []
    },
    {
      "cell_type": "code",
      "metadata": {
        "id": "fp7BhumbfNQe"
      },
      "source": [
        "print('''\n",
        "  Dear Alice,\n",
        "\n",
        "  Eve's cat has been arrested for catnapping, cat burglary, and extortion.\n",
        "\n",
        "  Sincerely,\n",
        "  Bob\n",
        "  ''')"
      ],
      "execution_count": null,
      "outputs": []
    },
    {
      "cell_type": "code",
      "metadata": {
        "id": "H_LjVt5hj2Pm"
      },
      "source": [
        "class Animal:\n",
        "    name = ''\n",
        "\n",
        "    def __init__(self, name):\n",
        "        self.name = name\n",
        "\n",
        "    def walk(self):\n",
        "        print('walking')\n",
        "\n",
        "    def eat(self):\n",
        "        print('eating')\n",
        "\n",
        "\n",
        "class Dog(Animal):\n",
        "    def __init__(self, name):\n",
        "        super().__init__(name)\n",
        "\n",
        "    def walk(self):\n",
        "        print('{0} using foot walk'.format(self.name))\n",
        "\n",
        "    def eat(self):\n",
        "        print('{0} eat bone'.format(self.name))\n",
        "\n",
        "\n",
        "animal = Dog('A')\n",
        "animal.eat()\n",
        "animal.walk()"
      ],
      "execution_count": null,
      "outputs": []
    },
    {
      "cell_type": "code",
      "metadata": {
        "id": "IhzzCfBRkJmu"
      },
      "source": [
        "class Animal:\n",
        "    name = ''\n",
        "    __private = ''\n",
        "    def __init__(self, name):\n",
        "        self.name = name\n",
        "\n",
        "    def walk(self):\n",
        "        print('walking')\n",
        "\n",
        "    def eat(self):\n",
        "        print('eating')\n",
        "\n",
        "class Duck(Animal):\n",
        "    def __init__(self, name):\n",
        "        super().__init__(name)\n",
        "\n",
        "    def walk(self):\n",
        "        print('{0} using two foot walk'.format(self.name))\n",
        "\n",
        "    def eat(self):\n",
        "        print('{0} eat worm'.format(self.name))\n",
        "\n",
        "\n",
        "animal = Dog('A')\n",
        "animal = Duck('A')\n",
        "animal.eat()\n",
        "animal.walk()        "
      ],
      "execution_count": null,
      "outputs": []
    },
    {
      "cell_type": "code",
      "metadata": {
        "id": "rUJhVxegk8Sq"
      },
      "source": [
        "import calendar\n",
        "print(calendar.weekday(2021, 3, 9))"
      ],
      "execution_count": null,
      "outputs": []
    },
    {
      "cell_type": "code",
      "metadata": {
        "id": "5VnUwJXVlcua"
      },
      "source": [
        "import datetime\n",
        "#datetime.datetime.today()\n",
        "weekday = datetime.datetime.today()\n",
        "weekday"
      ],
      "execution_count": null,
      "outputs": []
    },
    {
      "cell_type": "code",
      "metadata": {
        "id": "YF4p71RZlxkC"
      },
      "source": [
        "import datetime\n",
        "datetime.datetime.today().weekday()\n",
        "# # int value range: 0-6, monday-sunday\n",
        "if datetime.datetime.today().weekday() < 5:\n",
        "  print('Today is a weekday')"
      ],
      "execution_count": null,
      "outputs": []
    },
    {
      "cell_type": "markdown",
      "metadata": {
        "id": "5FzBiBx1EFaW"
      },
      "source": [
        ""
      ]
    }
  ]
}